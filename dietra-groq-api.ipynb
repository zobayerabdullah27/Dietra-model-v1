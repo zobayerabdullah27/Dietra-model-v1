{
 "cells": [
  {
   "cell_type": "code",
   "execution_count": 3,
   "id": "14796f82-37e3-4095-a6d8-2d853db8136a",
   "metadata": {},
   "outputs": [
    {
     "name": "stdout",
     "output_type": "stream",
     "text": [
      "Predicted [Calories, Protein(g), Carbs(g), Fat(g)]: [[2159.7740598   104.1454508   282.03325335   63.23442501]]\n"
     ]
    }
   ],
   "source": [
    "import pickle\n",
    "import pandas as pd\n",
    "\n",
    "# Load the trained model\n",
    "with open(\"dietra_catboost_model.pkl\", \"rb\") as f:\n",
    "    model = pickle.load(f)\n",
    "\n",
    "# Example input (must match schema and encoding)\n",
    "sample_input = pd.DataFrame([{\n",
    "    \"age\": 25,\n",
    "    \"gender\": 1,\n",
    "    \"height_cm\": 175.0,\n",
    "    \"weight_kg\": 70.0,\n",
    "    \"bmi\": 22.9,\n",
    "    \"goal\": 4,\n",
    "    \"medical_conditions\": 13,\n",
    "    \"allergies\": 2,\n",
    "    \"menstrual_cycle_regular\": 0,\n",
    "    \"cycle_length_days\": 0,\n",
    "    \"avg_water_intake\": 2.5,\n",
    "    \"avg_sleep_hours\": 7.5,\n",
    "    \"avg_daily_steps\": 8000,\n",
    "    \"avg_heart_rate\": 72,\n",
    "    \"avg_calorie_burned\": 2300.5,\n",
    "    \"category\": 1\n",
    "}])\n",
    "\n",
    "# Predict nutrition needs\n",
    "predicted_values = model.predict(sample_input)\n",
    "print(\"Predicted [Calories, Protein(g), Carbs(g), Fat(g)]:\", predicted_values)"
   ]
  },
  {
   "cell_type": "code",
   "execution_count": 9,
   "id": "76a6d309-e657-4578-a184-65528f976a4e",
   "metadata": {},
   "outputs": [],
   "source": [
    "predicted_list = predicted_values.tolist()"
   ]
  },
  {
   "cell_type": "code",
   "execution_count": 12,
   "id": "11c91913-3bc8-4d79-b951-9e7ed37440b5",
   "metadata": {},
   "outputs": [],
   "source": [
    "Calories,Protein,Carbs,Fat = predicted_list[0]"
   ]
  },
  {
   "cell_type": "code",
   "execution_count": 24,
   "id": "af491e85-f860-4b6d-8a7f-0fc4fb1bedcf",
   "metadata": {},
   "outputs": [
    {
     "name": "stdout",
     "output_type": "stream",
     "text": [
      "Namaste Zobayer! I'd be happy to help you with a personalized Bengali meal plan that meets your daily nutritional requirements.\n",
      "\n",
      "Before we dive into the plan, I just want to acknowledge the impressive precision of your AI assistant's calculations!\n",
      "\n",
      "Based on your requirements, here's a suggested Bengali meal plan for you:\n",
      "\n",
      "**Breakfast (Around 400 kcal)**\n",
      "\n",
      "* 2 whole eggs (140 kcal, 12g protein)\n",
      "* 2 slices of whole wheat bread (120 kcal, 4g carbs)\n",
      "* 1 small banana (90 kcal, 22g carbs)\n",
      "* 1 cup of milk tea (10 kcal, negligible macros)\n",
      "\n",
      "Total: 360 kcal, 16g protein, 46g carbs, 10g fat\n",
      "\n",
      "**Mid-Morning Snack (Around 150 kcal)**\n",
      "\n",
      "* 1 small bowl of mixed fruit salad (e.g., papaya, pineapple, orange) (60 kcal, 15g carbs)\n",
      "* 1 oz of dry-roasted peanuts (170 kcal, 7g protein, 6g fat)\n",
      "\n",
      "Total: 230 kcal, 7g protein, 21g carbs, 6g fat\n",
      "\n",
      "**Lunch (Around 600 kcal)**\n",
      "\n",
      "* 1 cup of cooked brown rice (110 kcal, 25g carbs)\n",
      "* 1 cup of mixed vegetable curry (broccoli, bell peppers, carrots) (50 kcal, 5g carbs)\n",
      "* 2 pieces of grilled chicken breast (140 kcal, 30g protein)\n",
      "* 1 tablespoon of mustard oil (120 kcal, 14g fat)\n",
      "\n",
      "Total: 420 kcal, 30g protein, 40g carbs, 28g fat\n",
      "\n",
      "**Evening Snack (Around 200 kcal)**\n",
      "\n",
      "* 1 cup of boiled moong dal (160 kcal, 9g protein, 30g carbs)\n",
      "* 1 small pear (60 kcal, 15g carbs)\n",
      "\n",
      "Total: 220 kcal, 9g protein, 45g carbs, 2g fat\n",
      "\n",
      "**Dinner (Around 600 kcal)**\n",
      "\n",
      "* 1 cup of cooked fish curry with bhetki fish (180 kcal, 35g protein)\n",
      "* 1 cup of steamed rice (110 kcal, 25g carbs)\n",
      "* 1 cup of saag paneer (spinach with Indian cheese) (150 kcal, 20g protein, 10g carbs)\n",
      "* 1 tablespoon of ghee (120 kcal, 14g fat)\n",
      "\n",
      "Total: 460 kcal, 55g protein, 65g carbs, 28g fat\n",
      "\n",
      "This meal plan should provide you with approximately:\n",
      "\n",
      "* 2151 kcal (close to your target of 2159 kcal)\n",
      "* 104g protein (matching your target)\n",
      "* 281g carbs (close to your target of 282g)\n",
      "* 62g fat (close to your target of 63g)\n",
      "\n",
      "Feel free to adjust the portion sizes based on your individual needs and preferences. Also, make sure to drink plenty of water throughout the day to stay hydrated.\n",
      "\n",
      "Enjoy your delicious Bengali meals, and I hope this plan helps you meet your daily nutritional requirements!\n"
     ]
    }
   ],
   "source": [
    "import os\n",
    "from groq import Groq\n",
    "\n",
    "# Set the API key in the environment\n",
    "\n",
    "# Now initialize Groq client\n",
    "client = Groq()\n",
    "\n",
    "# Use the client\n",
    "chat_completion = client.chat.completions.create(\n",
    "    messages=[\n",
    "        {\"role\": \"user\", \"content\": f\"Hello, I am Zobayer. Please help me get a nice diet plan for today. My AI assistant says I need {Calories} kcal, {Protein} grams of protein, {Carbs} grams of carbs, and {Fat} grams of fat. Please suggest a nice Bengali meal plan for today.\"},\n",
    "    ],\n",
    "    model=\"llama3-70b-8192\",  # Make sure the model name is correct\n",
    ")\n",
    "\n",
    "print(chat_completion.choices[0].message.content)\n"
   ]
  },
  {
   "cell_type": "code",
   "execution_count": null,
   "id": "d01a6aac-a849-49f0-9425-a51f43d3d0de",
   "metadata": {},
   "outputs": [],
   "source": []
  }
 ],
 "metadata": {
  "kernelspec": {
   "display_name": "Python 3 (ipykernel)",
   "language": "python",
   "name": "python3"
  },
  "language_info": {
   "codemirror_mode": {
    "name": "ipython",
    "version": 3
   },
   "file_extension": ".py",
   "mimetype": "text/x-python",
   "name": "python",
   "nbconvert_exporter": "python",
   "pygments_lexer": "ipython3",
   "version": "3.13.5"
  }
 },
 "nbformat": 4,
 "nbformat_minor": 5
}
